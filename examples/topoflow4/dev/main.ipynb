{
 "cells": [
  {
   "cell_type": "markdown",
   "metadata": {},
   "source": [
    "**Purpose:** This notebook is for integrating Topoflow transformations and verifying its results"
   ]
  },
  {
   "cell_type": "markdown",
   "metadata": {},
   "source": [
    "**Setup cells:**"
   ]
  },
  {
   "cell_type": "code",
   "execution_count": 2,
   "metadata": {},
   "outputs": [],
   "source": [
    "import numpy as np"
   ]
  },
  {
   "cell_type": "markdown",
   "metadata": {},
   "source": [
    "**Main**"
   ]
  },
  {
   "cell_type": "code",
   "execution_count": 3,
   "metadata": {},
   "outputs": [
    {
     "name": "stdout",
     "output_type": "stream",
     "text": [
      "/home/rook/workspace/mint/MINT-Transformation/examples/topoflow4/dev\n"
     ]
    }
   ],
   "source": [
    "PDIR = \"/home/rook/workspace/mint/MINT-Transformation/\"\n",
    "WDIR = \"/home/rook/workspace/mint/MINT-Transformation/examples/topoflow4/dev\"\n",
    "\n",
    "%cd {WDIR}"
   ]
  },
  {
   "cell_type": "markdown",
   "metadata": {},
   "source": [
    "download netcdf files so that we can see the data"
   ]
  },
  {
   "cell_type": "code",
   "execution_count": 27,
   "metadata": {
    "collapsed": true,
    "jupyter": {
     "outputs_hidden": true
    }
   },
   "outputs": [
    {
     "name": "stdout",
     "output_type": "stream",
     "text": [
      "Importing TopoFlow 3.6 packages:\n",
      "   topoflow.utils\n",
      "   topoflow.utils.tests\n",
      "   topoflow.components\n",
      "   topoflow.components.tests\n",
      "   topoflow.framework\n",
      "   topoflow.framework.tests\n",
      " \n",
      "Importing TopoFlow 3.6 packages:\n",
      "   topoflow.utils\n",
      "   topoflow.utils.tests\n",
      "   topoflow.components\n",
      "   topoflow.components.tests\n",
      "   topoflow.framework\n",
      "   topoflow.framework.tests\n",
      " \n",
      "Paths for this package:\n",
      "framework_dir = /home/rook/workspace/mint/MINT-Transformation/funcs/topoflow/topoflow/framework/\n",
      "parent_dir    = /home/rook/workspace/mint/MINT-Transformation/funcs/topoflow/topoflow/\n",
      "examples_dir  = /home/rook/workspace/mint/MINT-Transformation/funcs/topoflow/topoflow/examples/\n",
      "__file__      = /home/rook/workspace/mint/MINT-Transformation/funcs/topoflow/topoflow/framework/emeli.py\n",
      "__name__      = funcs.topoflow.topoflow.framework.emeli\n",
      " \n"
     ]
    }
   ],
   "source": [
    "!PYTHONPATH={PDIR} dotenv run python -m dtran.main exec_pipeline --config {WDIR}/download_weather_data.yml"
   ]
  },
  {
   "cell_type": "markdown",
   "metadata": {},
   "source": [
    "convert them to geotiff to run topoflow"
   ]
  },
  {
   "cell_type": "code",
   "execution_count": 50,
   "metadata": {},
   "outputs": [
    {
     "name": "stdout",
     "output_type": "stream",
     "text": [
      "Importing TopoFlow 3.6 packages:\n",
      "   topoflow.utils\n",
      "   topoflow.utils.tests\n",
      "   topoflow.components\n",
      "   topoflow.components.tests\n",
      "   topoflow.framework\n",
      "   topoflow.framework.tests\n",
      " \n",
      "Importing TopoFlow 3.6 packages:\n",
      "   topoflow.utils\n",
      "   topoflow.utils.tests\n",
      "   topoflow.components\n",
      "   topoflow.components.tests\n",
      "   topoflow.framework\n",
      "   topoflow.framework.tests\n",
      " \n",
      "Paths for this package:\n",
      "framework_dir = /home/rook/workspace/mint/MINT-Transformation/funcs/topoflow/topoflow/framework/\n",
      "parent_dir    = /home/rook/workspace/mint/MINT-Transformation/funcs/topoflow/topoflow/\n",
      "examples_dir  = /home/rook/workspace/mint/MINT-Transformation/funcs/topoflow/topoflow/examples/\n",
      "__file__      = /home/rook/workspace/mint/MINT-Transformation/funcs/topoflow/topoflow/framework/emeli.py\n",
      "__name__      = funcs.topoflow.topoflow.framework.emeli\n",
      " \n",
      "/home/rook/workspace/mint/MINT-Transformation/examples/topoflow4/dev/data/geotiff/0.tif\n",
      "/home/rook/workspace/mint/MINT-Transformation/examples/topoflow4/dev/data/geotiff/1.tif\n",
      "/home/rook/workspace/mint/MINT-Transformation/examples/topoflow4/dev/data/geotiff/2.tif\n",
      "/home/rook/workspace/mint/MINT-Transformation/examples/topoflow4/dev/data/geotiff/3.tif\n",
      "/home/rook/workspace/mint/MINT-Transformation/examples/topoflow4/dev/data/geotiff/4.tif\n",
      "/home/rook/workspace/mint/MINT-Transformation/examples/topoflow4/dev/data/geotiff/5.tif\n",
      "/home/rook/workspace/mint/MINT-Transformation/examples/topoflow4/dev/data/geotiff/6.tif\n",
      "/home/rook/workspace/mint/MINT-Transformation/examples/topoflow4/dev/data/geotiff/7.tif\n"
     ]
    }
   ],
   "source": [
    "!PYTHONPATH={PDIR} dotenv run python -m dtran.main exec_pipeline --config {WDIR}/nc2geotiff.yml"
   ]
  },
  {
   "cell_type": "code",
   "execution_count": 4,
   "metadata": {},
   "outputs": [
    {
     "name": "stdout",
     "output_type": "stream",
     "text": [
      "/home/rook/workspace/mint/MINT-Transformation/examples/topoflow4/dev\n"
     ]
    }
   ],
   "source": [
    "!pwd"
   ]
  },
  {
   "cell_type": "code",
   "execution_count": 6,
   "metadata": {},
   "outputs": [
    {
     "name": "stdout",
     "output_type": "stream",
     "text": [
      "PYTHONPATH=/home/rook/workspace/mint/MINT-Transformation/:/home/rook/workspace/mint/MINT-Transformation/data/topoflow36 dotenv run python -m dtran.main exec_pipeline --config /home/rook/workspace/mint/MINT-Transformation/examples/topoflow4/dev/tf_climate.yml\n"
     ]
    }
   ],
   "source": [
    "!echo PYTHONPATH={PDIR}:{PDIR}data/topoflow36 dotenv run python -m dtran.main exec_pipeline --config {WDIR}/tf_climate.yml"
   ]
  },
  {
   "cell_type": "code",
   "execution_count": 37,
   "metadata": {},
   "outputs": [],
   "source": [
    "from drepr import DRepr, outputs\n",
    "\n",
    "dsmodel = DRepr.parse_from_file(\"/home/rook/workspace/mint/MINT-Transformation/examples/topoflow4/dev/gldas.yml\")"
   ]
  },
  {
   "cell_type": "code",
   "execution_count": 38,
   "metadata": {},
   "outputs": [],
   "source": [
    "sm = outputs.ArrayBackend.from_drepr(dsmodel, \"/home/rook/workspace/mint/MINT-Transformation/examples/topoflow4/dev/data/download/fe24e7dd-df5f-4071-9c15-f0e55b9b7f9d.nc4\")"
   ]
  },
  {
   "cell_type": "markdown",
   "metadata": {},
   "source": [
    "**Verification blocks:**"
   ]
  },
  {
   "cell_type": "markdown",
   "metadata": {},
   "source": [
    "Showing the range of data in RTS file"
   ]
  },
  {
   "cell_type": "code",
   "execution_count": 81,
   "metadata": {},
   "outputs": [],
   "source": [
    "rts_file = \"/home/rook/workspace/mint/MINT-Transformation/examples/topoflow4/dev/data/output.rts\""
   ]
  },
  {
   "cell_type": "code",
   "execution_count": 82,
   "metadata": {},
   "outputs": [],
   "source": [
    "array = np.fromfile(rts_file, dtype=np.float32)"
   ]
  },
  {
   "cell_type": "code",
   "execution_count": 83,
   "metadata": {},
   "outputs": [
    {
     "data": {
      "text/plain": [
       "(0.0, 1.4480706)"
      ]
     },
     "execution_count": 83,
     "metadata": {},
     "output_type": "execute_result"
    }
   ],
   "source": [
    "array.min(), array.max()"
   ]
  },
  {
   "cell_type": "code",
   "execution_count": null,
   "metadata": {},
   "outputs": [],
   "source": []
  }
 ],
 "metadata": {
  "kernelspec": {
   "display_name": "mintdt",
   "language": "python",
   "name": "mintdt"
  },
  "language_info": {
   "codemirror_mode": {
    "name": "ipython",
    "version": 3
   },
   "file_extension": ".py",
   "mimetype": "text/x-python",
   "name": "python",
   "nbconvert_exporter": "python",
   "pygments_lexer": "ipython3",
   "version": "3.7.6"
  }
 },
 "nbformat": 4,
 "nbformat_minor": 4
}
