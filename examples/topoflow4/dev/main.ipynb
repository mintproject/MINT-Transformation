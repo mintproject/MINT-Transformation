{
 "cells": [
  {
   "cell_type": "markdown",
   "metadata": {},
   "source": [
    "**Purpose:** This notebook is for integrating Topoflow transformations and verifying its results"
   ]
  },
  {
   "cell_type": "markdown",
   "metadata": {},
   "source": [
    "**Setup cells:**"
   ]
  },
  {
   "cell_type": "code",
   "execution_count": 4,
   "metadata": {},
   "outputs": [],
   "source": [
    "import numpy as np, glob, os"
   ]
  },
  {
   "cell_type": "markdown",
   "metadata": {},
   "source": [
    "**Main**"
   ]
  },
  {
   "cell_type": "code",
   "execution_count": 3,
   "metadata": {},
   "outputs": [
    {
     "name": "stdout",
     "output_type": "stream",
     "text": [
      "/home/rook/workspace/mint/MINT-Transformation/examples/topoflow4/dev\n"
     ]
    }
   ],
   "source": [
    "PDIR = \"/home/rook/workspace/mint/MINT-Transformation/\"\n",
    "WDIR = \"/home/rook/workspace/mint/MINT-Transformation/examples/topoflow4/dev\"\n",
    "\n",
    "%cd {WDIR}"
   ]
  },
  {
   "cell_type": "markdown",
   "metadata": {},
   "source": [
    "download netcdf files so that we can see the data"
   ]
  },
  {
   "cell_type": "code",
   "execution_count": 27,
   "metadata": {
    "collapsed": true,
    "jupyter": {
     "outputs_hidden": true
    }
   },
   "outputs": [
    {
     "name": "stdout",
     "output_type": "stream",
     "text": [
      "Importing TopoFlow 3.6 packages:\n",
      "   topoflow.utils\n",
      "   topoflow.utils.tests\n",
      "   topoflow.components\n",
      "   topoflow.components.tests\n",
      "   topoflow.framework\n",
      "   topoflow.framework.tests\n",
      " \n",
      "Importing TopoFlow 3.6 packages:\n",
      "   topoflow.utils\n",
      "   topoflow.utils.tests\n",
      "   topoflow.components\n",
      "   topoflow.components.tests\n",
      "   topoflow.framework\n",
      "   topoflow.framework.tests\n",
      " \n",
      "Paths for this package:\n",
      "framework_dir = /home/rook/workspace/mint/MINT-Transformation/funcs/topoflow/topoflow/framework/\n",
      "parent_dir    = /home/rook/workspace/mint/MINT-Transformation/funcs/topoflow/topoflow/\n",
      "examples_dir  = /home/rook/workspace/mint/MINT-Transformation/funcs/topoflow/topoflow/examples/\n",
      "__file__      = /home/rook/workspace/mint/MINT-Transformation/funcs/topoflow/topoflow/framework/emeli.py\n",
      "__name__      = funcs.topoflow.topoflow.framework.emeli\n",
      " \n"
     ]
    }
   ],
   "source": [
    "!PYTHONPATH={PDIR} dotenv run python -m dtran.main exec_pipeline --config {WDIR}/download_weather_data.yml"
   ]
  },
  {
   "cell_type": "markdown",
   "metadata": {},
   "source": [
    "convert them to geotiff to run topoflow"
   ]
  },
  {
   "cell_type": "code",
   "execution_count": 50,
   "metadata": {
    "collapsed": true,
    "jupyter": {
     "outputs_hidden": true
    }
   },
   "outputs": [
    {
     "name": "stdout",
     "output_type": "stream",
     "text": [
      "Importing TopoFlow 3.6 packages:\n",
      "   topoflow.utils\n",
      "   topoflow.utils.tests\n",
      "   topoflow.components\n",
      "   topoflow.components.tests\n",
      "   topoflow.framework\n",
      "   topoflow.framework.tests\n",
      " \n",
      "Importing TopoFlow 3.6 packages:\n",
      "   topoflow.utils\n",
      "   topoflow.utils.tests\n",
      "   topoflow.components\n",
      "   topoflow.components.tests\n",
      "   topoflow.framework\n",
      "   topoflow.framework.tests\n",
      " \n",
      "Paths for this package:\n",
      "framework_dir = /home/rook/workspace/mint/MINT-Transformation/funcs/topoflow/topoflow/framework/\n",
      "parent_dir    = /home/rook/workspace/mint/MINT-Transformation/funcs/topoflow/topoflow/\n",
      "examples_dir  = /home/rook/workspace/mint/MINT-Transformation/funcs/topoflow/topoflow/examples/\n",
      "__file__      = /home/rook/workspace/mint/MINT-Transformation/funcs/topoflow/topoflow/framework/emeli.py\n",
      "__name__      = funcs.topoflow.topoflow.framework.emeli\n",
      " \n",
      "/home/rook/workspace/mint/MINT-Transformation/examples/topoflow4/dev/data/geotiff/0.tif\n",
      "/home/rook/workspace/mint/MINT-Transformation/examples/topoflow4/dev/data/geotiff/1.tif\n",
      "/home/rook/workspace/mint/MINT-Transformation/examples/topoflow4/dev/data/geotiff/2.tif\n",
      "/home/rook/workspace/mint/MINT-Transformation/examples/topoflow4/dev/data/geotiff/3.tif\n",
      "/home/rook/workspace/mint/MINT-Transformation/examples/topoflow4/dev/data/geotiff/4.tif\n",
      "/home/rook/workspace/mint/MINT-Transformation/examples/topoflow4/dev/data/geotiff/5.tif\n",
      "/home/rook/workspace/mint/MINT-Transformation/examples/topoflow4/dev/data/geotiff/6.tif\n",
      "/home/rook/workspace/mint/MINT-Transformation/examples/topoflow4/dev/data/geotiff/7.tif\n"
     ]
    }
   ],
   "source": [
    "!PYTHONPATH={PDIR} dotenv run python -m dtran.main exec_pipeline --config {WDIR}/nc2geotiff.yml"
   ]
  },
  {
   "cell_type": "markdown",
   "metadata": {},
   "source": [
    "run the whole pipeline to generate RTS file"
   ]
  },
  {
   "cell_type": "code",
   "execution_count": 6,
   "metadata": {},
   "outputs": [
    {
     "name": "stdout",
     "output_type": "stream",
     "text": [
      "PYTHONPATH=/home/rook/workspace/mint/MINT-Transformation/:/home/rook/workspace/mint/MINT-Transformation/data/topoflow36 dotenv run python -m dtran.main exec_pipeline --config /home/rook/workspace/mint/MINT-Transformation/examples/topoflow4/dev/tf_climate.yml\n"
     ]
    }
   ],
   "source": [
    "!PYTHONPATH={PDIR}:{PDIR}data/topoflow36 dotenv run python -m dtran.main exec_pipeline --config {WDIR}/tf_climate.local.yml"
   ]
  },
  {
   "cell_type": "markdown",
   "metadata": {},
   "source": [
    "The following lines of code are for debugging the DREPR model for GPM, should be ignored"
   ]
  },
  {
   "cell_type": "raw",
   "metadata": {},
   "source": [
    "from drepr import DRepr, outputs\n",
    "\n",
    "dsmodel = DRepr.parse_from_file(\"/home/rook/workspace/mint/MINT-Transformation/examples/topoflow4/dev/gpm.yml\")"
   ]
  },
  {
   "cell_type": "raw",
   "metadata": {},
   "source": [
    "sm = outputs.ArrayBackend.from_drepr(dsmodel, \"/home/rook/workspace/mint/MINT-Transformation/data/GPM/201408/3B-HHR.MS.MRG.3IMERG.20140801-S000000-E002959.0000.V06B.HDF5.nc4\")"
   ]
  },
  {
   "cell_type": "raw",
   "metadata": {},
   "source": [
    "next(sm.c(\"mint-geo:Raster\")[0].iter_records()).to_dict()"
   ]
  },
  {
   "cell_type": "raw",
   "metadata": {},
   "source": [
    "sm.c(\"mint:Variable\")[0].p(\"mint-geo:long\").as_ndarray([])"
   ]
  },
  {
   "cell_type": "markdown",
   "metadata": {},
   "source": [
    "**Download data:**"
   ]
  },
  {
   "cell_type": "code",
   "execution_count": 160,
   "metadata": {},
   "outputs": [],
   "source": [
    "with open(\"/home/rook/workspace/mint/MINT-Transformation/data/GPM/subset_GPM_3IMERGHH_06_20200604_212650.txt\", \"r\") as f:\n",
    "    lines = list(f)"
   ]
  },
  {
   "cell_type": "code",
   "execution_count": 161,
   "metadata": {},
   "outputs": [
    {
     "data": {
      "text/plain": [
       "1488"
      ]
     },
     "execution_count": 161,
     "metadata": {},
     "output_type": "execute_result"
    }
   ],
   "source": [
    "len(lines)"
   ]
  },
  {
   "cell_type": "code",
   "execution_count": 174,
   "metadata": {},
   "outputs": [
    {
     "data": {
      "text/plain": [
       "1485"
      ]
     },
     "execution_count": 174,
     "metadata": {},
     "output_type": "execute_result"
    }
   ],
   "source": [
    "downloaded_files = set([os.path.basename(x) for x in glob.glob(\"/home/rook/workspace/mint/MINT-Transformation/data/GPM/201408/*.nc4\")])\n",
    "len(downloaded_files)"
   ]
  },
  {
   "cell_type": "code",
   "execution_count": 175,
   "metadata": {},
   "outputs": [],
   "source": [
    "undownloaded_urls = []\n",
    "for x in lines:\n",
    "    fname = x[x.find(\"3B-HHR\"):x.find(\"?\")]\n",
    "    if fname not in downloaded_files:\n",
    "        undownloaded_urls.append(x)"
   ]
  },
  {
   "cell_type": "code",
   "execution_count": 176,
   "metadata": {},
   "outputs": [],
   "source": [
    "with open(\"/home/rook/workspace/mint/MINT-Transformation/data/GPM/remained.txt\", \"w\") as f:\n",
    "    for line in undownloaded_urls:\n",
    "        f.write(line)"
   ]
  },
  {
   "cell_type": "markdown",
   "metadata": {},
   "source": [
    "**Verification blocks:**"
   ]
  },
  {
   "cell_type": "markdown",
   "metadata": {},
   "source": [
    "Showing the range of data in RTS file"
   ]
  },
  {
   "cell_type": "code",
   "execution_count": 7,
   "metadata": {},
   "outputs": [],
   "source": [
    "rts_file = \"/home/rook/workspace/mint/MINT-Transformation/examples/topoflow4/dev/data/output.rts\""
   ]
  },
  {
   "cell_type": "code",
   "execution_count": 8,
   "metadata": {},
   "outputs": [],
   "source": [
    "array = np.fromfile(rts_file, dtype=np.float32)"
   ]
  },
  {
   "cell_type": "code",
   "execution_count": 9,
   "metadata": {},
   "outputs": [
    {
     "data": {
      "text/plain": [
       "(0.0, 12.450711)"
      ]
     },
     "execution_count": 9,
     "metadata": {},
     "output_type": "execute_result"
    }
   ],
   "source": [
    "array.min(), array.max()"
   ]
  },
  {
   "cell_type": "code",
   "execution_count": 12,
   "metadata": {},
   "outputs": [
    {
     "data": {
      "text/plain": [
       "248.0"
      ]
     },
     "execution_count": 12,
     "metadata": {},
     "output_type": "execute_result"
    }
   ],
   "source": [
    "array.shape[0] / 134 / 129"
   ]
  }
 ],
 "metadata": {
  "kernelspec": {
   "display_name": "mintdt",
   "language": "python",
   "name": "mintdt"
  },
  "language_info": {
   "codemirror_mode": {
    "name": "ipython",
    "version": 3
   },
   "file_extension": ".py",
   "mimetype": "text/x-python",
   "name": "python",
   "nbconvert_exporter": "python",
   "pygments_lexer": "ipython3",
   "version": "3.7.6"
  }
 },
 "nbformat": 4,
 "nbformat_minor": 4
}
