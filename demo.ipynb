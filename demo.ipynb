{
 "cells": [
  {
   "cell_type": "code",
   "execution_count": null,
   "metadata": {},
   "outputs": [],
   "source": []
  },
  {
   "cell_type": "markdown",
   "metadata": {},
   "source": [
    "# This is the example flow for the MINT transformation pipeline"
   ]
  },
  {
   "cell_type": "markdown",
   "metadata": {},
   "source": [
    "This notebook abstracts an example flow for a transformation flow in the MINT project, we show a simple CSV --> CSV file based on user input"
   ]
  },
  {
   "cell_type": "markdown",
   "metadata": {},
   "source": [
    "## Part 1: The Reader Adapter\n",
    "\n",
    "In this stage we have a `input.csv` file and a `input.yaml` file describing the D-REPR layout, we create a general representation of the data in a python object (or a materialized representation of that object in a file)"
   ]
  },
  {
   "cell_type": "code",
   "execution_count": 1,
   "metadata": {},
   "outputs": [],
   "source": [
    "# {input.*, input.yaml} --> Graph (Obj)"
   ]
  },
  {
   "cell_type": "markdown",
   "metadata": {},
   "source": [
    "## Part 2: The Transformation Library\n",
    "\n",
    "In this stage we have a python object (or a materialized representation of that object in a file) representing the data in a general fashion"
   ]
  },
  {
   "cell_type": "code",
   "execution_count": null,
   "metadata": {},
   "outputs": [],
   "source": [
    "# Graph(Obj) --> Graph(Obj)"
   ]
  },
  {
   "cell_type": "markdown",
   "metadata": {},
   "source": [
    "## Part 3: The Writer Adapter\n",
    "\n",
    "In this stage we want to output a materialized output file (`output.csv`) based on a given `output.yaml` and an additional configuration file `output.config`"
   ]
  },
  {
   "cell_type": "code",
   "execution_count": 2,
   "metadata": {},
   "outputs": [],
   "source": [
    "# {Graph(Obj), output.yaml} --> {output.*}"
   ]
  },
  {
   "cell_type": "markdown",
   "metadata": {},
   "source": [
    "## This is the semantic description of the interface between all of the components in the flow (Reader/Writer Adapters, Transformation-Steps)"
   ]
  },
  {
   "cell_type": "code",
   "execution_count": 1,
   "metadata": {},
   "outputs": [
    {
     "ename": "SyntaxError",
     "evalue": "invalid syntax (<ipython-input-1-2d9e2d75fa9d>, line 1)",
     "output_type": "error",
     "traceback": [
      "\u001b[0;36m  File \u001b[0;32m\"<ipython-input-1-2d9e2d75fa9d>\"\u001b[0;36m, line \u001b[0;32m1\u001b[0m\n\u001b[0;31m    enum ArgType:\u001b[0m\n\u001b[0m               ^\u001b[0m\n\u001b[0;31mSyntaxError\u001b[0m\u001b[0;31m:\u001b[0m invalid syntax\n"
     ]
    }
   ],
   "source": [
    "enum ArgType:\n",
    "\tFilePath(Format),\n",
    "\tGraph(SemanticModel),\n",
    " \tNumpyArray(Schema),\n",
    "\tString,\n",
    "\tNumber,\n",
    "\tBoolean,\n",
    "\tDateTime\n",
    "\n",
    "\n",
    "class TransFunc:\n",
    "\tid: Str\n",
    "\tinputs: Dict[str, Optional[ArgType]];\n",
    "\toutput: Dict[str, Optional[ArgType]];\n",
    "\n",
    "\tdef __init__(self, config, data, target_unit, source_unit):\n",
    "\t\tpass\n",
    "\n",
    "\tdef validate(self) -> bool:\n",
    "\t\tpass\n",
    "\n",
    "\tdef exec(self) -> dict:\n",
    "\t\tpass\n",
    "\t\t\n",
    "\n",
    "class UnitTransformation(TransFunc):\n",
    "\tid: Str = \"unit_transformation\"\n",
    "\tdescription: Str = \"\"\n",
    "\tinputs = {\n",
    "\t\t\"conf\": ArgType.FilePath,\n",
    "\t\t\"source_unit\": ArgType.String,\n",
    "\t\t\"data\": ArgType.Graph\n",
    "\t}\n",
    "\toutputs = {\n",
    "\t\t\"data\": ArgType.Graph\n",
    "\t}\n",
    "\n",
    "\n",
    "\tdef __init__(self, config, data, target_unit, source_unit):\n",
    "\t\tpass\n",
    "\n",
    "\tdef validate(self) -> bool:\n",
    "\t\tpass\n",
    "\n",
    "\tdef exec(self) -> dict:\n",
    "\t\tpass\n",
    "\n",
    "pipeline = [\n",
    "\tReaderPDF,\n",
    "\tUnitTransformation\n",
    "]\n",
    "\n",
    "args = {\n",
    "\t\"<id>_<index>_<arg_name>\": <value>\t\n",
    "}\n",
    "args['unit_transformation_1_arg_name'] = None\n",
    "pipeline.exec(args)"
   ]
  },
  {
   "cell_type": "code",
   "execution_count": null,
   "metadata": {},
   "outputs": [],
   "source": []
  }
 ],
 "metadata": {
  "kernelspec": {
   "display_name": "Python 3",
   "language": "python",
   "name": "python3"
  },
  "language_info": {
   "codemirror_mode": {
    "name": "ipython",
    "version": 3
   },
   "file_extension": ".py",
   "mimetype": "text/x-python",
   "name": "python",
   "nbconvert_exporter": "python",
   "pygments_lexer": "ipython3",
   "version": "3.7.1"
  }
 },
 "nbformat": 4,
 "nbformat_minor": 2
}
