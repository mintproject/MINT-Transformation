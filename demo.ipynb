{
 "cells": [
  {
   "cell_type": "code",
   "execution_count": 1,
   "metadata": {},
   "outputs": [],
   "source": [
    "import ujson, csv, time\n",
    "from dtran import Pipeline, IFunc, ArgType\n",
    "from funcs import ReadFunc\n",
    "from pydrepr import Graph\n",
    "\n",
    "%load_ext autoreload\n",
    "%autoreload 2"
   ]
  },
  {
   "cell_type": "markdown",
   "metadata": {},
   "source": [
    "# This is a demo with an example flow for the MINT transformation pipeline\n",
    "\n",
    "This notebook presents an abstraction of the MINT Data Transformations architecture and walks thourgh an example through the pipeline we are suggesting; we show a simple CSV --(unit transformations)--> CSV flow."
   ]
  },
  {
   "cell_type": "markdown",
   "metadata": {},
   "source": [
    "# (Semantic) Description of a component (reader/writer/transformation functions)\n",
    "\n",
    "Providing semantic description of a function may allow constructing the pipeline semi-automatically. There are two levels of a semantic description:\n",
    "\n",
    "1. Providing definition for inputs/outputs of a component: it enables input data validation and compatibility checking between connected components.\n",
    "2. Providing definition of the purpose of the component: it allows us to construct the transformation pipeline based on some specification from users\n",
    "\n",
    "```python\n",
    "class IFunc(abc.ABC):\n",
    "    id: str = \"\"\n",
    "        \n",
    "    # level 2\n",
    "    description = None\n",
    "    \n",
    "    # level 1\n",
    "    inputs: Dict[str, ArgType] = {}\n",
    "    outputs: Dict[str, ArgType] = {}\n",
    "\n",
    "    @abc.abstractmethod\n",
    "    def validate(self) -> bool:\n",
    "        \"\"\"\n",
    "        Check if the inputs are correct or not\n",
    "        :return:\n",
    "        \"\"\"\n",
    "        raise NotImplementedError()\n",
    "\n",
    "    @abc.abstractmethod\n",
    "    def exec(self) -> dict:\n",
    "        \"\"\"\n",
    "        Execute the transformation function and return the result\n",
    "        :return:\n",
    "        \"\"\"\n",
    "        raise NotImplementedError()\n",
    "```"
   ]
  },
  {
   "cell_type": "markdown",
   "metadata": {},
   "source": [
    "## This is the semantic description of the interface (control plane) between all of the components in the pipeline (Reader/Writer/Transformation Adapters)\n"
   ]
  },
  {
   "cell_type": "markdown",
   "metadata": {},
   "source": [
    "## Here's an example flow:"
   ]
  },
  {
   "cell_type": "markdown",
   "metadata": {},
   "source": [
    "## Component 1: Reader Adapter\n",
    "\n",
    "An instance of a reader adapter can be used as an entry point in the pipeline. It reads an input file `input.csv` file and a `input.yaml` file describing the D-REPR layout of this file. The data are representated in general way in a python object (Graph or NumPY array) and will be used in the next steps in the pipeline.\n",
    "\n",
    "```python\n",
    "class ReadFunc(IFunc):\n",
    "    id = \"read_func\"\n",
    "    inputs = {\n",
    "        \"repr_file\": ArgType.FilePath, \n",
    "        \"resources\": ArgType.String\n",
    "    }\n",
    "    outputs = {\"data\": ArgType.Graph(None)}\n",
    "    \n",
    "    ...\n",
    "```"
   ]
  },
  {
   "cell_type": "markdown",
   "metadata": {},
   "source": [
    "## Component 2: Transformation Adapter\n",
    "\n",
    "An instance of a transformation adapter does not materialize the data into an output, it just reproduces the data, transformaing its content (the actual data) and performing the needed configrations in the 'control plane' parameters.\n",
    "Given the pythonic object (graph) representing the data and the rest of the needed configurations in the calling API ('control plane' parameters) we can re-construct the data in a new pythonic object (graph) and prepare it for the next steps in the pipeline."
   ]
  },
  {
   "cell_type": "code",
   "execution_count": 2,
   "metadata": {},
   "outputs": [],
   "source": [
    "# python_graph_obj --> python_graph_obj*\n",
    "class UnitTransFunc(IFunc):\n",
    "    id = \"unit_trans\"\n",
    "    inputs = {\"graph\": ArgType.Graph(None)}\n",
    "    outputs = {\"graph\": ArgType.Graph(None)}\n",
    "    \n",
    "    def __init__(self, graph: Graph):\n",
    "        self.graph = graph\n",
    "        \n",
    "    def exec(self):\n",
    "        return {\n",
    "            \"graph\": Graph({}, [], [])\n",
    "        }"
   ]
  },
  {
   "cell_type": "markdown",
   "metadata": {},
   "source": [
    "## Component 3: Writer Adapter\n",
    "\n",
    "An instance of a writer adapter can be used as an exit point in the pipeline. It writes an output file `output.csv` based on a given `output.yaml` (D-REPR layout) and an additional configuration file `output.config`"
   ]
  },
  {
   "cell_type": "code",
   "execution_count": 8,
   "metadata": {},
   "outputs": [],
   "source": [
    "# {python_graph_obj*, output.yaml, output.config} --> {output.csv}\n",
    "class WriteFunc(IFunc):\n",
    "    id = \"write_func\"\n",
    "    inputs = {}\n",
    "    outputs = {}"
   ]
  },
  {
   "cell_type": "markdown",
   "metadata": {},
   "source": [
    "# Pipeline"
   ]
  },
  {
   "cell_type": "code",
   "execution_count": 4,
   "metadata": {},
   "outputs": [],
   "source": [
    "inputs = {\n",
    "    ReadFunc.I.repr_file: \"./examples/s01_ethiopia_commodity_price.yml\",\n",
    "    ReadFunc.I.resources: \"./examples/s01_ethiopia_commodity_price.csv\",\n",
    "}\n",
    "\n",
    "pipeline = Pipeline([\n",
    "    ReadFunc,\n",
    "    UnitTransFunc\n",
    "], wired=[\n",
    "    ReadFunc.O.data == UnitTransFunc.I.graph\n",
    "])\n",
    "outputs = pipeline.exec(inputs)"
   ]
  },
  {
   "cell_type": "code",
   "execution_count": 10,
   "metadata": {},
   "outputs": [
    {
     "data": {
      "text/plain": [
       "<pydrepr.graph.Graph at 0x10e15bc18>"
      ]
     },
     "execution_count": 10,
     "metadata": {},
     "output_type": "execute_result"
    }
   ],
   "source": [
    "outputs[str(ReadFunc.O._0.data)]"
   ]
  }
 ],
 "metadata": {
  "kernelspec": {
   "display_name": "Python 3",
   "language": "python",
   "name": "python3"
  },
  "language_info": {
   "codemirror_mode": {
    "name": "ipython",
    "version": 3
   },
   "file_extension": ".py",
   "mimetype": "text/x-python",
   "name": "python",
   "nbconvert_exporter": "python",
   "pygments_lexer": "ipython3",
   "version": "3.7.1"
  }
 },
 "nbformat": 4,
 "nbformat_minor": 2
}
